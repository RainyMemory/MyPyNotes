{
 "metadata": {
  "language_info": {
   "codemirror_mode": {
    "name": "ipython",
    "version": 3
   },
   "file_extension": ".py",
   "mimetype": "text/x-python",
   "name": "python",
   "nbconvert_exporter": "python",
   "pygments_lexer": "ipython3",
   "version": "3.6.8-final"
  },
  "orig_nbformat": 2,
  "kernelspec": {
   "name": "python3",
   "display_name": "Python 3"
  }
 },
 "nbformat": 4,
 "nbformat_minor": 2,
 "cells": [
  {
   "source": [
    "## Split Image Tool\n",
    "\n",
    "---\n",
    "\n",
    "### Requirements\n",
    "- Cut the target image into slices of 416x416\n",
    "- Mark the start pos of the slice in its filename\n",
    "- Generate groundtruth (labels) correspond to each slice\n",
    "    - If the centre point is in the slice, then mark the object to be in the slice\n",
    "- Cut with an overlap of 20%"
   ],
   "cell_type": "markdown",
   "metadata": {}
  },
  {
   "cell_type": "code",
   "execution_count": 80,
   "metadata": {},
   "outputs": [],
   "source": [
    "IMG_FOLDER = \"E:/COMP8500/4K-IMG/\"\n",
    "TARGET_FOLDER = \"E:/COMP8500/Sliced-4K/\"\n",
    "SLICE = 416\n",
    "OVERLAP = 0.2\n",
    "STEP = int(SLICE * (1 - OVERLAP))\n",
    "\n",
    "from PIL import Image\n",
    "import sys"
   ]
  },
  {
   "source": [
    "### Define how to split the image\n",
    "- Need to provide the name of the image, without suffix\n",
    "- Will cut split the images with the preset settings\\\n",
    "- Only keep the slices that have object in it"
   ],
   "cell_type": "markdown",
   "metadata": {}
  },
  {
   "cell_type": "code",
   "execution_count": 81,
   "metadata": {},
   "outputs": [],
   "source": [
    "def splitImage(imageName, isTrainingSample=False):\n",
    "    # Read in the image\n",
    "    image = Image.open(IMG_FOLDER + imageName + \".jpg\")\n",
    "    (img_width, img_height) = image.size\n",
    "    if isTrainingSample:\n",
    "        # Read in the groundtruth file\n",
    "        txt = open(IMG_FOLDER + imageName + \".txt\")\n",
    "        contents = txt.readlines()\n",
    "        txt.close()\n",
    "    # Prepare to store the target slices\n",
    "    slice_list = []\n",
    "    x_pos = 0\n",
    "    while x_pos < img_width:\n",
    "        y_pos = 0\n",
    "        while y_pos < img_height:\n",
    "            # when the row of last slice went out of the image\n",
    "            if x_pos + SLICE > img_width:\n",
    "                if y_pos + SLICE <= img_height:\n",
    "                    cur_slice = (img_width - SLICE, y_pos, img_width, y_pos + SLICE)\n",
    "                # all out of bounds\n",
    "                else:\n",
    "                    cur_slice = (img_width - SLICE, img_height - SLICE, img_width, img_height)\n",
    "            else:\n",
    "                if y_pos + SLICE <= img_height:\n",
    "                    cur_slice = (x_pos, y_pos, x_pos + SLICE, y_pos + SLICE)\n",
    "                # the col went out of the image\n",
    "                else:\n",
    "                    cur_slice = (x_pos, img_height - SLICE, x_pos + SLICE, img_height)\n",
    "            # If not training sample, all slices will be kept (without groundtruth file)\n",
    "            if not isTrainingSample:\n",
    "                slice_list.append(cur_slice)\n",
    "            # Only keep the slices that have target objects\n",
    "            elif labelSlice(cur_slice, imageName, img_width, img_height, contents):\n",
    "                slice_list.append(cur_slice)\n",
    "            y_pos += STEP\n",
    "        x_pos += STEP\n",
    "    slices = [image.crop(cur_slice) for cur_slice in slice_list]\n",
    "    # Save the images\n",
    "    for idx in range(len(slice_list)):\n",
    "        slices[idx].save(TARGET_FOLDER + imageName + \".\" + str(slice_list[idx][0]) + \".\" + str(slice_list[idx][1]) + \".jpg\")"
   ]
  },
  {
   "source": [
    "### Check if the slice contains any object\n",
    "- True: have object(s) in the slice\n",
    "- If true, the label of the slice will be automatically generated \n",
    "    - The format: x_center, y_center, width, height\n",
    "    - Nomarlised with the size of the slice\n",
    "    - The width and the height of the bounding box is not changed (no matter if it goes out of the slice)"
   ],
   "cell_type": "markdown",
   "metadata": {}
  },
  {
   "cell_type": "code",
   "execution_count": 82,
   "metadata": {},
   "outputs": [],
   "source": [
    "def labelSlice(cur_slice, imageName, img_width, img_height, contents):\n",
    "    selected = (cur_slice[0], cur_slice[1])\n",
    "    new_label_list = []\n",
    "    # Find if there exists any object in the slice\n",
    "    for lab_target in contents:\n",
    "        target = lab_target.split(' ')\n",
    "        target[1] = img_width * float(target[1])\n",
    "        target[2] = img_height * float(target[2])\n",
    "        target[3] = img_width * float(target[3])\n",
    "        target[4] = img_height * float(target[4])\n",
    "        # Check if the center point in the slice\n",
    "        if selected[0] <= target[1] and target[1] <= selected[0] + SLICE:\n",
    "            if selected[1] <= target[2] and target[2] <= selected[1] + SLICE:\n",
    "                # Rewrite the position for the current slice\n",
    "                new_label = [target[0], 0, 0, 0, 0]\n",
    "                new_label[1] = (target[1] - selected[0]) / SLICE\n",
    "                new_label[2] = (target[2] - selected[1]) / SLICE\n",
    "                new_label[3] = target[3] / SLICE\n",
    "                new_label[4] = target[4] / SLICE\n",
    "                new_label_list.append(new_label)\n",
    "    if len(new_label_list) > 0:\n",
    "        tar_file = open(TARGET_FOLDER + imageName + \".\" + str(selected[0]) + \".\" + str(selected[1]) + \".txt\", mode='w')\n",
    "        for new_label in new_label_list:\n",
    "            out_str = new_label[0] + \", \" + str(new_label[1]) + \", \" + str(new_label[2]) + \", \" + str(new_label[3]) + \", \" + str(new_label[4]) + \"\\n\"\n",
    "            tar_file.write(out_str)\n",
    "        tar_file.close()\n",
    "        return True\n",
    "    else:\n",
    "        return False"
   ]
  },
  {
   "source": [
    "### How to use\n",
    "- Change the presettings corresponding to ur special requirements\n",
    "- Create a .txt file to mark all the images you want to split\n",
    "- Use a loop to call the splitImage Method\n",
    "    - If it is training data (already labeled with YOLO format), set `isTrainingSample` to be `True`\n",
    "    - Else leave it blank, all the slices will be kept for testing"
   ],
   "cell_type": "markdown",
   "metadata": {}
  },
  {
   "cell_type": "code",
   "execution_count": 84,
   "metadata": {},
   "outputs": [],
   "source": [
    "IMG = \"169.6\"\n",
    "splitImage(IMG,True)"
   ]
  }
 ]
}